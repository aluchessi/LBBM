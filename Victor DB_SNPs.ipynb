{
 "cells": [
  {
   "cell_type": "code",
   "execution_count": 1,
   "metadata": {},
   "outputs": [
    {
     "name": "stderr",
     "output_type": "stream",
     "text": [
      "Loading required package: combinat\n",
      "\n",
      "Attaching package: 'combinat'\n",
      "\n",
      "The following object is masked from 'package:utils':\n",
      "\n",
      "    combn\n",
      "\n",
      "Loading required package: gdata\n",
      "gdata: read.xls support for 'XLS' (Excel 97-2004) files ENABLED.\n",
      "\n",
      "gdata: read.xls support for 'XLSX' (Excel 2007+) files ENABLED.\n",
      "\n",
      "Attaching package: 'gdata'\n",
      "\n",
      "The following object is masked from 'package:stats':\n",
      "\n",
      "    nobs\n",
      "\n",
      "The following object is masked from 'package:utils':\n",
      "\n",
      "    object.size\n",
      "\n",
      "The following object is masked from 'package:base':\n",
      "\n",
      "    startsWith\n",
      "\n",
      "Loading required package: gtools\n",
      "Loading required package: MASS\n",
      "Loading required package: mvtnorm\n",
      "\n",
      "\n",
      "NOTE: THIS PACKAGE IS NOW OBSOLETE.\n",
      "\n",
      "\n",
      "\n",
      "  The R-Genetics project has developed an set of enhanced genetics\n",
      "\n",
      "  packages to replace 'genetics'. Please visit the project homepage\n",
      "\n",
      "  at http://rgenetics.org for informtion.\n",
      "\n",
      "\n",
      "\n",
      "\n",
      "Attaching package: 'genetics'\n",
      "\n",
      "The following objects are masked from 'package:base':\n",
      "\n",
      "    %in%, as.factor, order\n",
      "\n"
     ]
    }
   ],
   "source": [
    "library(genetics)"
   ]
  },
  {
   "cell_type": "code",
   "execution_count": 3,
   "metadata": {
    "scrolled": true
   },
   "outputs": [
    {
     "data": {
      "text/html": [
       "'C:/Users/teste'"
      ],
      "text/latex": [
       "'C:/Users/teste'"
      ],
      "text/markdown": [
       "'C:/Users/teste'"
      ],
      "text/plain": [
       "[1] \"C:/Users/teste\""
      ]
     },
     "metadata": {},
     "output_type": "display_data"
    }
   ],
   "source": [
    "getwd() #Localizar os arquivos em seu computador"
   ]
  },
  {
   "cell_type": "code",
   "execution_count": 85,
   "metadata": {},
   "outputs": [
    {
     "data": {
      "text/html": [
       "<table>\n",
       "<thead><tr><th scope=col>rs3595</th><th scope=col>rs3596</th><th scope=col>dm</th></tr></thead>\n",
       "<tbody>\n",
       "\t<tr><td>A/A    </td><td>C/C    </td><td>control</td></tr>\n",
       "\t<tr><td>A/A    </td><td>C/C    </td><td>control</td></tr>\n",
       "\t<tr><td>A/A    </td><td>C/C    </td><td>control</td></tr>\n",
       "\t<tr><td>A/A    </td><td>C/C    </td><td>control</td></tr>\n",
       "\t<tr><td>A/A    </td><td>C/C    </td><td>control</td></tr>\n",
       "\t<tr><td>A/A    </td><td>C/C    </td><td>control</td></tr>\n",
       "</tbody>\n",
       "</table>\n"
      ],
      "text/latex": [
       "\\begin{tabular}{r|lll}\n",
       " rs3595 & rs3596 & dm\\\\\n",
       "\\hline\n",
       "\t A/A     & C/C     & control\\\\\n",
       "\t A/A     & C/C     & control\\\\\n",
       "\t A/A     & C/C     & control\\\\\n",
       "\t A/A     & C/C     & control\\\\\n",
       "\t A/A     & C/C     & control\\\\\n",
       "\t A/A     & C/C     & control\\\\\n",
       "\\end{tabular}\n"
      ],
      "text/markdown": [
       "\n",
       "rs3595 | rs3596 | dm | \n",
       "|---|---|---|---|---|---|\n",
       "| A/A     | C/C     | control | \n",
       "| A/A     | C/C     | control | \n",
       "| A/A     | C/C     | control | \n",
       "| A/A     | C/C     | control | \n",
       "| A/A     | C/C     | control | \n",
       "| A/A     | C/C     | control | \n",
       "\n",
       "\n"
      ],
      "text/plain": [
       "  rs3595 rs3596 dm     \n",
       "1 A/A    C/C    control\n",
       "2 A/A    C/C    control\n",
       "3 A/A    C/C    control\n",
       "4 A/A    C/C    control\n",
       "5 A/A    C/C    control\n",
       "6 A/A    C/C    control"
      ]
     },
     "metadata": {},
     "output_type": "display_data"
    }
   ],
   "source": [
    "db5<- read.table(\"db_victor_SNPs.txt\", sep=\"\\t\", header = TRUE) # Ler a base de dados\n",
    "head(db5)"
   ]
  },
  {
   "cell_type": "code",
   "execution_count": 112,
   "metadata": {},
   "outputs": [
    {
     "name": "stdout",
     "output_type": "stream",
     "text": [
      "\n",
      "Number of samples typed: 149 (100%)\n",
      "\n",
      "Allele Frequency: (2 alleles)\n",
      "  Count Proportion\n",
      "A   274       0.92\n",
      "G    24       0.08\n",
      "\n",
      "\n",
      "Genotype Frequency:\n",
      "    Count Proportion\n",
      "A/A   125       0.84\n",
      "A/G    24       0.16\n",
      "\n",
      "Heterozygosity (Hu)  = 0.1486001\n",
      "Poly. Inf. Content   = 0.1371344\n",
      "\n",
      "\n",
      "Number of samples typed: 149 (100%)\n",
      "\n",
      "Allele Frequency: (2 alleles)\n",
      "  Count Proportion\n",
      "T   229       0.77\n",
      "C    69       0.23\n",
      "\n",
      "\n",
      "Genotype Frequency:\n",
      "    Count Proportion\n",
      "T/T    87       0.58\n",
      "T/C    55       0.37\n",
      "C/C     7       0.05\n",
      "\n",
      "Heterozygosity (Hu)  = 0.3570605\n",
      "Poly. Inf. Content   = 0.2925433\n",
      "\n"
     ]
    }
   ],
   "source": [
    "for(i in names(subset(db5, dm == \"control\")[,c(1:2)])) {\n",
    "    print(summary(genotype(subset(db5, dm == \"control\")[[i]])))\n",
    "    \n",
    "}"
   ]
  },
  {
   "cell_type": "code",
   "execution_count": 87,
   "metadata": {},
   "outputs": [
    {
     "data": {
      "text/plain": [
       "\n",
       "   case control \n",
       "    174     149 "
      ]
     },
     "metadata": {},
     "output_type": "display_data"
    }
   ],
   "source": [
    "table(db5$dm)"
   ]
  },
  {
   "cell_type": "code",
   "execution_count": 94,
   "metadata": {},
   "outputs": [
    {
     "data": {
      "text/plain": [
       "\n",
       "A/A A/G \n",
       "265  58 "
      ]
     },
     "metadata": {},
     "output_type": "display_data"
    },
    {
     "data": {
      "text/plain": [
       "\n",
       "C/C C/T T/T \n",
       "  7  55 261 "
      ]
     },
     "metadata": {},
     "output_type": "display_data"
    }
   ],
   "source": [
    "table(db5$rs3595)\n",
    "table(db5$rs3596)"
   ]
  },
  {
   "cell_type": "code",
   "execution_count": 95,
   "metadata": {},
   "outputs": [],
   "source": [
    "tab1 <- table(db5$dm,db5$rs3595)\n",
    "tab2 <- table(db5$dm,db5$rs3596)"
   ]
  },
  {
   "cell_type": "code",
   "execution_count": 96,
   "metadata": {},
   "outputs": [
    {
     "data": {
      "text/plain": [
       "         \n",
       "          A/A A/G\n",
       "  case    140  34\n",
       "  control 125  24"
      ]
     },
     "metadata": {},
     "output_type": "display_data"
    },
    {
     "data": {
      "text/plain": [
       "         \n",
       "          C/C C/T T/T\n",
       "  case      0   0 174\n",
       "  control   7  55  87"
      ]
     },
     "metadata": {},
     "output_type": "display_data"
    }
   ],
   "source": [
    "tab1\n",
    "tab2"
   ]
  },
  {
   "cell_type": "code",
   "execution_count": 100,
   "metadata": {},
   "outputs": [
    {
     "data": {
      "text/plain": [
       "\n",
       "\tPearson's Chi-squared test with Yates' continuity correction\n",
       "\n",
       "data:  tab1\n",
       "X-squared = 0.43018, df = 1, p-value = 0.5119\n"
      ]
     },
     "metadata": {},
     "output_type": "display_data"
    }
   ],
   "source": [
    "chisq.test(tab1)"
   ]
  },
  {
   "cell_type": "code",
   "execution_count": 99,
   "metadata": {},
   "outputs": [
    {
     "name": "stderr",
     "output_type": "stream",
     "text": [
      "Warning message in chisq.test(tab2):\n",
      "\"Chi-squared approximation may be incorrect\""
     ]
    },
    {
     "data": {
      "text/plain": [
       "\n",
       "\tPearson's Chi-squared test\n",
       "\n",
       "data:  tab2\n",
       "X-squared = 89.602, df = 2, p-value < 2.2e-16\n"
      ]
     },
     "metadata": {},
     "output_type": "display_data"
    }
   ],
   "source": [
    "chisq.test(tab2)"
   ]
  },
  {
   "cell_type": "code",
   "execution_count": 108,
   "metadata": {},
   "outputs": [
    {
     "ename": "ERROR",
     "evalue": "Error in allelic.exact.test(tab1): argumento \"d1\" ausente, sem padrão\n",
     "output_type": "error",
     "traceback": [
      "Error in allelic.exact.test(tab1): argumento \"d1\" ausente, sem padrão\nTraceback:\n",
      "1. allelic.exact.test(tab1)"
     ]
    }
   ],
   "source": [
    "allelic.exact.test(tab1)"
   ]
  },
  {
   "cell_type": "code",
   "execution_count": 106,
   "metadata": {},
   "outputs": [
    {
     "name": "stderr",
     "output_type": "stream",
     "text": [
      "Warning message:\n",
      "\"unable to access index for repository http://www.stats.ox.ac.uk/pub/RWin/bin/windows/contrib/3.5:\n",
      "  não foi possível abrir a URL 'http://www.stats.ox.ac.uk/pub/RWin/bin/windows/contrib/3.5/PACKAGES'\""
     ]
    },
    {
     "name": "stdout",
     "output_type": "stream",
     "text": [
      "package 'allelic' successfully unpacked and MD5 sums checked\n",
      "\n",
      "The downloaded binary packages are in\n",
      "\tC:\\Users\\teste\\AppData\\Local\\Temp\\RtmpQXeb5C\\downloaded_packages\n"
     ]
    }
   ],
   "source": [
    "install.packages(\"allelic\")"
   ]
  },
  {
   "cell_type": "code",
   "execution_count": 107,
   "metadata": {},
   "outputs": [],
   "source": [
    "library(allelic)"
   ]
  },
  {
   "cell_type": "code",
   "execution_count": null,
   "metadata": {},
   "outputs": [],
   "source": []
  }
 ],
 "metadata": {
  "kernelspec": {
   "display_name": "R 3.5",
   "language": "R",
   "name": "ir35"
  },
  "language_info": {
   "codemirror_mode": "r",
   "file_extension": ".r",
   "mimetype": "text/x-r-source",
   "name": "R",
   "pygments_lexer": "r",
   "version": "3.5.1"
  }
 },
 "nbformat": 4,
 "nbformat_minor": 2
}
