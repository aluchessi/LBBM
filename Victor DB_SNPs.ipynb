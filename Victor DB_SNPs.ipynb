{
 "cells": [
  {
   "cell_type": "code",
   "execution_count": 1,
   "metadata": {},
   "outputs": [],
   "source": [
    "suppressPackageStartupMessages(library(genetics))"
   ]
  },
  {
   "cell_type": "code",
   "execution_count": null,
   "metadata": {},
   "outputs": [],
   "source": [
    "suppressPackageStartupMessages(library(allelic))"
   ]
  },
  {
   "cell_type": "code",
   "execution_count": 2,
   "metadata": {
    "scrolled": true
   },
   "outputs": [
    {
     "data": {
      "text/html": [
       "'C:/Users/teste'"
      ],
      "text/latex": [
       "'C:/Users/teste'"
      ],
      "text/markdown": [
       "'C:/Users/teste'"
      ],
      "text/plain": [
       "[1] \"C:/Users/teste\""
      ]
     },
     "metadata": {},
     "output_type": "display_data"
    }
   ],
   "source": [
    "getwd() #Localizar os arquivos em seu computador"
   ]
  },
  {
   "cell_type": "code",
   "execution_count": 31,
   "metadata": {},
   "outputs": [
    {
     "data": {
      "text/html": [
       "<table>\n",
       "<thead><tr><th scope=col>rs3595</th><th scope=col>rs3596</th><th scope=col>dm</th></tr></thead>\n",
       "<tbody>\n",
       "\t<tr><td>A/A    </td><td>C/C    </td><td>control</td></tr>\n",
       "\t<tr><td>A/A    </td><td>C/C    </td><td>control</td></tr>\n",
       "\t<tr><td>A/A    </td><td>C/C    </td><td>control</td></tr>\n",
       "\t<tr><td>A/A    </td><td>C/C    </td><td>control</td></tr>\n",
       "\t<tr><td>A/A    </td><td>C/C    </td><td>control</td></tr>\n",
       "\t<tr><td>A/A    </td><td>C/C    </td><td>control</td></tr>\n",
       "</tbody>\n",
       "</table>\n"
      ],
      "text/latex": [
       "\\begin{tabular}{r|lll}\n",
       " rs3595 & rs3596 & dm\\\\\n",
       "\\hline\n",
       "\t A/A     & C/C     & control\\\\\n",
       "\t A/A     & C/C     & control\\\\\n",
       "\t A/A     & C/C     & control\\\\\n",
       "\t A/A     & C/C     & control\\\\\n",
       "\t A/A     & C/C     & control\\\\\n",
       "\t A/A     & C/C     & control\\\\\n",
       "\\end{tabular}\n"
      ],
      "text/markdown": [
       "\n",
       "rs3595 | rs3596 | dm | \n",
       "|---|---|---|---|---|---|\n",
       "| A/A     | C/C     | control | \n",
       "| A/A     | C/C     | control | \n",
       "| A/A     | C/C     | control | \n",
       "| A/A     | C/C     | control | \n",
       "| A/A     | C/C     | control | \n",
       "| A/A     | C/C     | control | \n",
       "\n",
       "\n"
      ],
      "text/plain": [
       "  rs3595 rs3596 dm     \n",
       "1 A/A    C/C    control\n",
       "2 A/A    C/C    control\n",
       "3 A/A    C/C    control\n",
       "4 A/A    C/C    control\n",
       "5 A/A    C/C    control\n",
       "6 A/A    C/C    control"
      ]
     },
     "metadata": {},
     "output_type": "display_data"
    }
   ],
   "source": [
    "db5<- read.table(\"db_victor_SNPs.txt\", sep=\"\\t\", header = TRUE) # Ler a base de dados\n",
    "head(db5)"
   ]
  },
  {
   "cell_type": "code",
   "execution_count": 32,
   "metadata": {},
   "outputs": [
    {
     "name": "stdout",
     "output_type": "stream",
     "text": [
      "\n",
      "Number of samples typed: 149 (100%)\n",
      "\n",
      "Allele Frequency: (2 alleles)\n",
      "  Count Proportion\n",
      "A   268        0.9\n",
      "G    30        0.1\n",
      "\n",
      "\n",
      "Genotype Frequency:\n",
      "    Count Proportion\n",
      "A/A   122       0.82\n",
      "A/G    24       0.16\n",
      "G/G     3       0.02\n",
      "\n",
      "Heterozygosity (Hu)  = 0.1816826\n",
      "Poly. Inf. Content   = 0.1646792\n",
      "\n",
      "\n",
      "Number of samples typed: 149 (100%)\n",
      "\n",
      "Allele Frequency: (2 alleles)\n",
      "  Count Proportion\n",
      "T   229       0.77\n",
      "C    69       0.23\n",
      "\n",
      "\n",
      "Genotype Frequency:\n",
      "    Count Proportion\n",
      "T/T    87       0.58\n",
      "T/C    55       0.37\n",
      "C/C     7       0.05\n",
      "\n",
      "Heterozygosity (Hu)  = 0.3570605\n",
      "Poly. Inf. Content   = 0.2925433\n",
      "\n"
     ]
    }
   ],
   "source": [
    "for(i in names(subset(db5, dm == \"control\")[,c(1:2)])) {\n",
    "    print(summary(genotype(subset(db5, dm == \"control\")[[i]])))\n",
    "    \n",
    "}"
   ]
  },
  {
   "cell_type": "code",
   "execution_count": 33,
   "metadata": {},
   "outputs": [
    {
     "name": "stdout",
     "output_type": "stream",
     "text": [
      "\n",
      "Number of samples typed: 174 (100%)\n",
      "\n",
      "Allele Frequency: (2 alleles)\n",
      "  Count Proportion\n",
      "A   308       0.89\n",
      "G    40       0.11\n",
      "\n",
      "\n",
      "Genotype Frequency:\n",
      "    Count Proportion\n",
      "A/A   137       0.79\n",
      "A/G    34       0.20\n",
      "G/G     3       0.02\n",
      "\n",
      "Heterozygosity (Hu)  = 0.2040478\n",
      "Poly. Inf. Content   = 0.1827632\n",
      "\n",
      "\n",
      "Number of samples typed: 174 (100%)\n",
      "\n",
      "Allele Frequency: (2 alleles)\n",
      "  Count Proportion\n",
      "T   338       0.97\n",
      "C    10       0.03\n",
      "\n",
      "\n",
      "Genotype Frequency:\n",
      "    Count Proportion\n",
      "T/T   167       0.96\n",
      "T/C     4       0.02\n",
      "C/C     3       0.02\n",
      "\n",
      "Heterozygosity (Hu)  = 0.05598066\n",
      "Poly. Inf. Content   = 0.05426187\n",
      "\n"
     ]
    }
   ],
   "source": [
    "for(i in names(subset(db5, dm == \"case\")[,c(1:2)])) {\n",
    "    print(summary(genotype(subset(db5, dm == \"case\")[[i]])))\n",
    "    \n",
    "}"
   ]
  },
  {
   "cell_type": "code",
   "execution_count": 77,
   "metadata": {},
   "outputs": [],
   "source": [
    "p_value_allelic_rs3595<- allelic.exact.test(table(subset(db5, dm == \"case\")$rs3595)[[1]], \n",
    "                                            table(subset(db5, dm == \"case\")$rs3595)[[2]], \n",
    "                                            table(subset(db5, dm == \"case\")$rs3595)[[3]],\n",
    "                                            table(subset(db5, dm == \"control\")$rs3595)[[1]],\n",
    "                                            table(subset(db5, dm == \"control\")$rs3595)[[2]], \n",
    "                                            table(subset(db5, dm == \"control\")$rs3595)[[3]])"
   ]
  },
  {
   "cell_type": "code",
   "execution_count": 78,
   "metadata": {},
   "outputs": [
    {
     "data": {
      "text/html": [
       "0.625384611548268"
      ],
      "text/latex": [
       "0.625384611548268"
      ],
      "text/markdown": [
       "0.625384611548268"
      ],
      "text/plain": [
       "[1] 0.6253846"
      ]
     },
     "metadata": {},
     "output_type": "display_data"
    }
   ],
   "source": [
    "p_value_allelic_rs3595"
   ]
  },
  {
   "cell_type": "code",
   "execution_count": null,
   "metadata": {},
   "outputs": [],
   "source": []
  },
  {
   "cell_type": "code",
   "execution_count": null,
   "metadata": {},
   "outputs": [],
   "source": []
  },
  {
   "cell_type": "code",
   "execution_count": null,
   "metadata": {},
   "outputs": [],
   "source": []
  },
  {
   "cell_type": "code",
   "execution_count": null,
   "metadata": {},
   "outputs": [],
   "source": []
  },
  {
   "cell_type": "code",
   "execution_count": null,
   "metadata": {},
   "outputs": [],
   "source": []
  },
  {
   "cell_type": "code",
   "execution_count": null,
   "metadata": {},
   "outputs": [],
   "source": []
  }
 ],
 "metadata": {
  "kernelspec": {
   "display_name": "R 3.5",
   "language": "R",
   "name": "ir35"
  },
  "language_info": {
   "codemirror_mode": "r",
   "file_extension": ".r",
   "mimetype": "text/x-r-source",
   "name": "R",
   "pygments_lexer": "r",
   "version": "3.5.1"
  }
 },
 "nbformat": 4,
 "nbformat_minor": 2
}
